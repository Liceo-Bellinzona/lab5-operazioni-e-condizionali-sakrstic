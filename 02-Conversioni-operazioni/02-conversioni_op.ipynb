{
 "cells": [
  {
   "cell_type": "markdown",
   "metadata": {},
   "source": [
    "# Dichiarare una variabile specificando il tipo\n",
    "In Python, le variabili non devono essere dichiarate con un tipo specifico. Il tipo di una variabile è determinato al momento dell'assegnazione. Questo è chiamato tipizzazione dinamica.\n",
    "Si può comunque specificare il tipo di una variabile, utilizzando la sintassi `variabile: tipo = valore`. Questo è chiamato tipizzazione statica.\n",
    "\n"
   ]
  },
  {
   "cell_type": "code",
   "execution_count": 8,
   "metadata": {},
   "outputs": [
    {
     "name": "stdout",
     "output_type": "stream",
     "text": [
      "5\n",
      "<class 'int'>\n",
      "ciao\n",
      "<class 'str'>\n",
      "12.2\n",
      "<class 'float'>\n"
     ]
    }
   ],
   "source": [
    "numero:int=5\n",
    "\n",
    "print(numero)\n",
    "print(type(numero))\n",
    "\n",
    "stringa:str=\"ciao\"\n",
    "print(stringa)\n",
    "print(type(stringa))\n",
    "\n",
    "decimale1: float=7.0\n",
    "decimale2: float=5.2\n",
    "print(decimale1+decimale2)\n",
    "print(type(decimale1+decimale2))"
   ]
  },
  {
   "cell_type": "markdown",
   "metadata": {},
   "source": [
    "# Conversioni (casting)\n",
    "Con python possiamo convertire un tipo di dato in un altro con un'operazione chiamata casting"
   ]
  },
  {
   "cell_type": "markdown",
   "metadata": {},
   "source": [
    "## Casting da intero a stringa\n"
   ]
  },
  {
   "cell_type": "code",
   "execution_count": 15,
   "metadata": {},
   "outputs": [
    {
     "name": "stdout",
     "output_type": "stream",
     "text": [
      "5\n",
      "<class 'int'>\n",
      "5\n",
      "<class 'str'>\n",
      "24\n",
      "<class 'str'>\n"
     ]
    }
   ],
   "source": [
    "# Creiamo una variabile che contiene un'intero\n",
    "var:int = 5\n",
    "\n",
    "# Convertiamo la variabile da intero a stringa\n",
    "var_str:str = str(var)\n",
    "\n",
    "print(var)\n",
    "print(type(var))\n",
    "print(var_str)\n",
    "print(type(var_str))\n",
    "\n",
    "\n",
    "var1:int=24\n",
    "var1_str:str(var1)\n",
    "print(var1_str)\n",
    "print(type(var1_str))"
   ]
  },
  {
   "cell_type": "markdown",
   "metadata": {},
   "source": [
    "## Da stringa a intero o float"
   ]
  },
  {
   "cell_type": "code",
   "execution_count": 22,
   "metadata": {},
   "outputs": [
    {
     "name": "stdout",
     "output_type": "stream",
     "text": [
      "3\n",
      "<class 'str'>\n",
      "3\n",
      "<class 'int'>\n",
      "4.5\n",
      "<class 'float'>\n",
      "3.0\n",
      "<class 'float'>\n",
      "0.6\n",
      "<class 'float'>\n"
     ]
    }
   ],
   "source": [
    "stringa:str=\"3\"\n",
    "print(stringa)\n",
    "print(type(stringa))\n",
    "\n",
    "numero:int=int(stringa)\n",
    "print(numero)\n",
    "print(type(numero))\n",
    "print((numero+6)/2)\n",
    "print(type((numero+6)/2))\n",
    "\n",
    "numero_float:float=float(stringa)\n",
    "print(numero_float)\n",
    "print(type(numero_float))\n",
    "print(numero_float/5)\n",
    "print(type(numero_float/5))"
   ]
  },
  {
   "cell_type": "markdown",
   "metadata": {},
   "source": [
    "# Operazioni \n",
    "Con Python possiamo eseguire le varie **operazioni matematiche** utilizzando l'operatore corretto"
   ]
  },
  {
   "cell_type": "code",
   "execution_count": 24,
   "metadata": {},
   "outputs": [
    {
     "name": "stdout",
     "output_type": "stream",
     "text": [
      "8\n",
      "3\n",
      "6\n",
      "2.0\n",
      "1\n",
      "25\n",
      "2500\n"
     ]
    }
   ],
   "source": [
    "# somma\n",
    "print(5+3)\n",
    "\n",
    "# sottrazione\n",
    "print(4-1)\n",
    "\n",
    "# prodotto\n",
    "print(3*2)\n",
    "\n",
    "# divisione\n",
    "print(4/2)\n",
    "\n",
    "# resto\n",
    "print(5%2)\n",
    "\n",
    "#potenza\n",
    "print(5**2)\n",
    "\n",
    "#misto\n",
    "print(int(32/2*4+3-17)**2)"
   ]
  },
  {
   "cell_type": "markdown",
   "metadata": {},
   "source": [
    "\n",
    "Gli operatori aritmetici assumono una altro significato se utilizzati con stringhe.\n",
    "Ad esempio l'operatore `+` viene utilizzato per concatenare due stringhe.\n"
   ]
  },
  {
   "cell_type": "code",
   "execution_count": 25,
   "metadata": {},
   "outputs": [
    {
     "name": "stdout",
     "output_type": "stream",
     "text": [
      "52\n",
      "<class 'str'>\n"
     ]
    }
   ],
   "source": [
    "# unire due stringhe\n",
    "stringa1:str=\"5\"\n",
    "stringa2:str=\"2\"\n",
    "risultato:str=stringa1+stringa2\n",
    "print(risultato)\n",
    "print(type(risultato))\n"
   ]
  },
  {
   "cell_type": "markdown",
   "metadata": {},
   "source": [
    "Cosa succede se moltiplichiamo una stringa per un numero intero?\n"
   ]
  },
  {
   "cell_type": "code",
   "execution_count": 26,
   "metadata": {},
   "outputs": [
    {
     "data": {
      "text/plain": [
       "'33333'"
      ]
     },
     "execution_count": 26,
     "metadata": {},
     "output_type": "execute_result"
    }
   ],
   "source": [
    "\"3\"*5"
   ]
  },
  {
   "cell_type": "markdown",
   "metadata": {},
   "source": [
    "Attenzione però, non tutte le operazioni sono possibili su tutti i tipi di dati. Ad esempio non è possibile sommare una stringa ad un intero."
   ]
  },
  {
   "cell_type": "code",
   "execution_count": 29,
   "metadata": {},
   "outputs": [
    {
     "ename": "TypeError",
     "evalue": "unsupported operand type(s) for +: 'int' and 'str'",
     "output_type": "error",
     "traceback": [
      "\u001b[0;31m---------------------------------------------------------------------------\u001b[0m",
      "\u001b[0;31mTypeError\u001b[0m                                 Traceback (most recent call last)",
      "Cell \u001b[0;32mIn[29], line 1\u001b[0m\n\u001b[0;32m----> 1\u001b[0m \u001b[38;5;241;43m2\u001b[39;49m\u001b[43m \u001b[49m\u001b[38;5;241;43m+\u001b[39;49m\u001b[43m \u001b[49m\u001b[38;5;124;43m\"\u001b[39;49m\u001b[38;5;124;43m3\u001b[39;49m\u001b[38;5;124;43m\"\u001b[39;49m\n",
      "\u001b[0;31mTypeError\u001b[0m: unsupported operand type(s) for +: 'int' and 'str'"
     ]
    }
   ],
   "source": [
    "2 + \"3\""
   ]
  },
  {
   "cell_type": "markdown",
   "metadata": {},
   "source": [
    "Come vedi il tentativo di sommare una parola e un numero ha causato un'errore, che in Python vengono chiamate **eccezioni**.<br> \n",
    "Ogni volta che si verifica un'eccezione Python ci mostra:\n",
    " * la riga esatta in cui si è verificato (La freccia verde)\n",
    " * il tipo di eccezone (TypeError)\n",
    " * una breve descrizione (*can only concatenate str (not \"int\") to str*)\n",
    " \n",
    "Un altro esempio di eccezione è quella che avviene se proviamo a convertire una parola in numero."
   ]
  },
  {
   "cell_type": "code",
   "execution_count": 30,
   "metadata": {},
   "outputs": [
    {
     "ename": "ValueError",
     "evalue": "could not convert string to float: 'boh'",
     "output_type": "error",
     "traceback": [
      "\u001b[0;31m---------------------------------------------------------------------------\u001b[0m",
      "\u001b[0;31mValueError\u001b[0m                                Traceback (most recent call last)",
      "Cell \u001b[0;32mIn[30], line 5\u001b[0m\n\u001b[1;32m      2\u001b[0m var \u001b[38;5;241m=\u001b[39m \u001b[38;5;124m\"\u001b[39m\u001b[38;5;124mboh\u001b[39m\u001b[38;5;124m\"\u001b[39m\n\u001b[1;32m      4\u001b[0m \u001b[38;5;66;03m# Convertiamo la variabile da intero a float\u001b[39;00m\n\u001b[0;32m----> 5\u001b[0m var \u001b[38;5;241m=\u001b[39m \u001b[38;5;28;43mfloat\u001b[39;49m\u001b[43m(\u001b[49m\u001b[43mvar\u001b[49m\u001b[43m)\u001b[49m\n\u001b[1;32m      7\u001b[0m \u001b[38;5;28mprint\u001b[39m(var)\n\u001b[1;32m      8\u001b[0m \u001b[38;5;28mprint\u001b[39m(\u001b[38;5;28mtype\u001b[39m(var))\n",
      "\u001b[0;31mValueError\u001b[0m: could not convert string to float: 'boh'"
     ]
    }
   ],
   "source": [
    "# Creiamo una variabile che contiene un intero\n",
    "var = \"boh\"\n",
    "\n",
    "# Convertiamo la variabile da intero a float\n",
    "var = float(var)\n",
    "\n",
    "print(var)\n",
    "print(type(var))"
   ]
  },
  {
   "cell_type": "markdown",
   "metadata": {},
   "source": [
    "# Operazioni sulle stringhe\n",
    "Una stringa è una sequenza di caratteri. In Python possiamo eseguire diverse operazioni su una stringa.\n",
    "Possiamo accedere ai singoli caratteri di una stringa utilizzando l'indice tra parentesi quadre.\n",
    "Attenzione però, in Python gli indici partono da 0.\n",
    "\n",
    "Per determinare la lunghezza di una stringa possiamo utilizzare la funzione `len()`\n",
    "\n",
    "Prova a modificare il valore dell'indice per vedere cosa succede.\n",
    "Si possono usare indici negativi? Cosa succede se provi ad accedere ad un indice maggiore della lunghezza della stringa?"
   ]
  },
  {
   "cell_type": "code",
   "execution_count": 34,
   "metadata": {},
   "outputs": [
    {
     "name": "stdout",
     "output_type": "stream",
     "text": [
      "15\n"
     ]
    },
    {
     "data": {
      "text/plain": [
       "'?'"
      ]
     },
     "execution_count": 34,
     "metadata": {},
     "output_type": "execute_result"
    }
   ],
   "source": [
    "stringa:str=\"ciao come stai?\"\n",
    "lunghezza:int=len(stringa)\n",
    "\n",
    "print(lunghezza)\n",
    "\n",
    "indice=14  #Modificare questo valore per vedere il carattere corrispondente\n",
    "stringa[indice]"
   ]
  },
  {
   "cell_type": "markdown",
   "metadata": {},
   "source": [
    "È possibile anche ottenere una parte di una stringa utilizzando la sintassi `stringa[start:stop]`. Questo è chiamato slicing."
   ]
  },
  {
   "cell_type": "code",
   "execution_count": 35,
   "metadata": {},
   "outputs": [
    {
     "data": {
      "text/plain": [
       "'ond'"
      ]
     },
     "execution_count": 35,
     "metadata": {},
     "output_type": "execute_result"
    }
   ],
   "source": [
    "stringa= \"ciao mondo\"\n",
    "stringa[6:9]"
   ]
  },
  {
   "cell_type": "markdown",
   "metadata": {},
   "source": [
    "Ci sono pure delle funzioni che possiamo utilizzare per manipolare le stringhe. Ad esempio la funzione `upper()` che trasforma tutti i caratteri in maiuscolo. Oppure la funzione `lower()` che trasforma tutti i caratteri in minuscolo.\n"
   ]
  },
  {
   "cell_type": "code",
   "execution_count": 37,
   "metadata": {},
   "outputs": [
    {
     "data": {
      "text/plain": [
       "'ciao come stai?'"
      ]
     },
     "execution_count": 37,
     "metadata": {},
     "output_type": "execute_result"
    }
   ],
   "source": [
    "stringa:str=\"ciao come stai?\"\n",
    "stringa.upper( )\n",
    "stringa.lower( )\n"
   ]
  },
  {
   "cell_type": "markdown",
   "metadata": {},
   "source": [
    "# Costruire stringhe con f-string\n",
    "A volte può essere utile costruire stringhe a partire da variabili, e Python offre un modo molto semplice per farlo: le f-string.\n",
    "\n",
    "Le f-string sono stringhe precedute dal carattere `f` (da qui il nome) e contengono delle espressioni racchiuse tra parentesi graffe `{}`. Queste espressioni vengono valutate e il loro risultato viene inserito nella stringa.\n",
    "\n",
    "Ecco un esempio:\n",
    "```python\n",
    "nome = \"Mario\"\n",
    "cognome = \"Rossi\"\n",
    "print(f\"Ciao, mi chiamo {nome} {cognome}\")"
   ]
  },
  {
   "cell_type": "code",
   "execution_count": 38,
   "metadata": {},
   "outputs": [
    {
     "name": "stdout",
     "output_type": "stream",
     "text": [
      "Ciao, mi chiamo Mario Rossi\n"
     ]
    }
   ],
   "source": [
    "nome = \"Mario\"\n",
    "cognome = \"Rossi\"\n",
    "print(f\"Ciao, mi chiamo {nome} {cognome}\") # La f indica che ci sono che ci sono delle variabili in più racchiuse tra parentesi graffe"
   ]
  },
  {
   "cell_type": "markdown",
   "metadata": {},
   "source": [
    "# Esempio \n",
    "Un esempio di trattamento delle informazioni sulle stringhe potrebbe essere la creazione di un messaggio di benvenuto personalizzato o l'estrazione di nome e cognome da un indirizzo email.\n",
    "Se l'indirizzo email è nel formato `nome.cognome@mail.com` possiamo estrarre il nome e il cognome utilizzando il metodo `split()` e poi costruire un messaggio di benvenuto utilizzando le f-string.\n",
    "Ad esempio:\n",
    "```python   \n",
    "email = \"nome.cognome@mail.com\"\n",
    "mail = email.split(\"@\")[0]\n",
    "provider= email.split(\"@\")[1]\n",
    "```\n",
    "In questo caso `mail` conterrà `nome.cognome` e `provider` conterrà `mail.com`.\n",
    "\n",
    "Prova a modificare il  seguente  programma che chiede all'utente di inserire il proprio indirizzo email e poi stampa un messaggio di benvenuto personalizzato estraendo il nome e il cognome dall'indirizzo email.\n",
    "\n",
    "\n",
    "\n"
   ]
  },
  {
   "cell_type": "code",
   "execution_count": 39,
   "metadata": {},
   "outputs": [],
   "source": [
    "input_email = input(\"Inserisci il tuo indirizzo email: (nome.cognome@mail.com)\")\n",
    "mail = input_email.split(\"@\")[0]\n",
    "provider= input_email.split(\"@\")[1]\n",
    "\n",
    "print(f\"La tua mail è {mail} e il provider è {provider}\")\n",
    "\n",
    "input_email1 = input(sara.krstic@gmail.com)\n",
    "nome = input_email1.split(\".\")[0]\n",
    "cognome = input_email1.split(\".\")[1][0:6]\n"
   ]
  },
  {
   "cell_type": "markdown",
   "metadata": {},
   "source": []
  },
  {
   "cell_type": "markdown",
   "metadata": {},
   "source": []
  }
 ],
 "metadata": {
  "kernelspec": {
   "display_name": "Python 3 (ipykernel)",
   "language": "python",
   "name": "python3"
  },
  "language_info": {
   "codemirror_mode": {
    "name": "ipython",
    "version": 3
   },
   "file_extension": ".py",
   "mimetype": "text/x-python",
   "name": "python",
   "nbconvert_exporter": "python",
   "pygments_lexer": "ipython3",
   "version": "3.10.13"
  }
 },
 "nbformat": 4,
 "nbformat_minor": 2
}
